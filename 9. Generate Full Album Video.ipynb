{
 "cells": [
  {
   "cell_type": "markdown",
   "id": "c11ecb38-b49a-49fb-95e8-ce4ea8753570",
   "metadata": {},
   "source": [
    "# Generate Full Album Video\n",
    "\n",
    "This notebook is to be run after the all notebooks for the indivudual tracks have been run and the mp4 files are present in the directory.\n",
    "\n",
    "The notebook creates a short and silent transition clip between consecutive tracks in the album, and then joins all the video clips together to create the full album video file."
   ]
  },
  {
   "cell_type": "code",
   "execution_count": 1,
   "id": "b3180352-97a7-47c4-ad82-7aaa07cd5bf8",
   "metadata": {},
   "outputs": [],
   "source": [
    "from moviepy.editor import *\n",
    "from matplotlib import pyplot as plt \n",
    "import time\n",
    "import pandas as pd\n",
    "from tqdm import tqdm\n",
    "import numpy as np\n",
    "\n",
    "from aeraudioviz.image import BaseImage, ImageModifiers\n",
    "from aeraudioviz.audio.feature_utils import add_random_noise_column, add_sine_wave_column, fade_out_between_times, fade_in_between_times"
   ]
  },
  {
   "cell_type": "markdown",
   "id": "1e3e2699-2d34-44b7-9fd2-d2005646c844",
   "metadata": {},
   "source": [
    "# Create Transition Clips\n",
    "\n",
    "The transition clips are a smooth fade between the last frame of the track and first frame of the next. Some salt and pepper noise and saturation modifications are also applied throughout the transitions."
   ]
  },
  {
   "cell_type": "markdown",
   "id": "090c4d43-5ffc-4ee8-97b6-38272080fb64",
   "metadata": {},
   "source": [
    "## Get First and Last Frame of Each Video"
   ]
  },
  {
   "cell_type": "code",
   "execution_count": 2,
   "id": "5de2c8e7-5980-4358-9867-c55d3f775283",
   "metadata": {},
   "outputs": [],
   "source": [
    "videos = {\n",
    "    1: 'Aerodactylus - Jetsam Dreams - 01 The Maiden Flight.mp4',\n",
    "    2: 'Aerodactylus - Jetsam Dreams - 02 Pterosoaring.mp4',\n",
    "    3: 'Aerodactylus - Jetsam Dreams - 03 In Plain Flight.mp4',\n",
    "    4: 'Aerodactylus - Jetsam Dreams - 04 Flutter On.mp4',\n",
    "    5: 'Aerodactylus - Jetsam Dreams - 05 Wintering Grounds.mp4',\n",
    "    6: 'Aerodactylus - Jetsam Dreams - 06 Alpenglow.mp4',\n",
    "    7: 'Aerodactylus - Jetsam Dreams - 07 Jettison the Rest.mp4',\n",
    "    8: 'Aerodactylus - Jetsam Dreams - 08 Sub Rosa Sunburst.mp4'\n",
    "}"
   ]
  },
  {
   "cell_type": "code",
   "execution_count": 3,
   "id": "65cd79ff-1951-4e81-bb0e-8505b961a04f",
   "metadata": {},
   "outputs": [],
   "source": [
    "first_frames = {}\n",
    "last_frames = {}\n",
    "for i in videos.keys():\n",
    "    clip = VideoFileClip(videos[i])\n",
    "    first_frames[i] = clip.get_frame(0)\n",
    "    last_frames[i] = clip.get_frame(clip.duration - 1/10.)  # close enough to last clip, fails without some buffer"
   ]
  },
  {
   "cell_type": "markdown",
   "id": "6f9c70bc-5f6c-46a1-aa68-7be837675e95",
   "metadata": {},
   "source": [
    "# Generate the Video Clips"
   ]
  },
  {
   "cell_type": "code",
   "execution_count": 4,
   "id": "976a9eef-60cb-4f0a-a151-568339d7d21d",
   "metadata": {},
   "outputs": [],
   "source": [
    "t = 1.5  # length of transition clip in seconds"
   ]
  },
  {
   "cell_type": "code",
   "execution_count": 5,
   "id": "06dee77a-f67d-4556-91f4-d99d3f5488c6",
   "metadata": {},
   "outputs": [],
   "source": [
    "df = pd.DataFrame(index=pd.to_timedelta([0., t], unit='s'))\n",
    "df['transition'] = 1.\n",
    "df = df.resample('41.666666L').mean()\n",
    "df.fillna(1, inplace=True)\n",
    "df['noise'] = df['transition'].copy()\n",
    "\n",
    "df = fade_in_between_times(df, 'transition', 0, t) \n",
    "df = fade_in_between_times(df, 'noise', 0, 2.*t/3.) \n",
    "df = fade_out_between_times(df, 'noise', 2.*t/3., t) "
   ]
  },
  {
   "cell_type": "code",
   "execution_count": 6,
   "id": "7e74f576-c74a-4ec3-8cde-c2d38133c9ed",
   "metadata": {},
   "outputs": [],
   "source": [
    "def generate(output_path, first_frame, last_frame, feature_time_series):\n",
    "    frames = []\n",
    "    for idx, row in tqdm(feature_time_series.iterrows(), total=len(feature_time_series)):\n",
    "        last_frame_fraction = row['transition']\n",
    "        first_frame_fraction = 1. - last_frame_fraction\n",
    "        frame = (first_frame * first_frame_fraction + last_frame * last_frame_fraction).astype(np.uint8)\n",
    "        frame = ImageModifiers.apply_salt_and_pepper_noise(frame, noise_ratio=.0001)\n",
    "        frame = ImageModifiers.apply_saturation_multiplication(frame, saturation_factor=1.- row['noise'] * .6)\n",
    "        frames.append(frame)\n",
    "    clip = ImageSequenceClip(frames, fps=24)\n",
    "    clip.write_videofile(output_path, codec=\"libx264\")\n",
    "    print(f\"Video written successfully to {output_path}.\")"
   ]
  },
  {
   "cell_type": "code",
   "execution_count": 7,
   "id": "fb8465ce-f2e1-495c-b86b-f597edb3642d",
   "metadata": {},
   "outputs": [
    {
     "name": "stderr",
     "output_type": "stream",
     "text": [
      "100%|██████████████████████████████████████████████████████████████████████████████████████████████████████████████████████| 37/37 [00:01<00:00, 26.34it/s]\n"
     ]
    },
    {
     "name": "stdout",
     "output_type": "stream",
     "text": [
      "Moviepy - Building video transition1.mp4.\n",
      "Moviepy - Writing video transition1.mp4\n",
      "\n"
     ]
    },
    {
     "name": "stderr",
     "output_type": "stream",
     "text": [
      "                                                                                                                                                           \r"
     ]
    },
    {
     "name": "stdout",
     "output_type": "stream",
     "text": [
      "Moviepy - Done !\n",
      "Moviepy - video ready transition1.mp4\n",
      "Video written successfully to transition1.mp4.\n"
     ]
    },
    {
     "name": "stderr",
     "output_type": "stream",
     "text": [
      "100%|██████████████████████████████████████████████████████████████████████████████████████████████████████████████████████| 37/37 [00:01<00:00, 26.15it/s]\n"
     ]
    },
    {
     "name": "stdout",
     "output_type": "stream",
     "text": [
      "Moviepy - Building video transition2.mp4.\n",
      "Moviepy - Writing video transition2.mp4\n",
      "\n"
     ]
    },
    {
     "name": "stderr",
     "output_type": "stream",
     "text": [
      "                                                                                                                                                           \r"
     ]
    },
    {
     "name": "stdout",
     "output_type": "stream",
     "text": [
      "Moviepy - Done !\n",
      "Moviepy - video ready transition2.mp4\n",
      "Video written successfully to transition2.mp4.\n"
     ]
    },
    {
     "name": "stderr",
     "output_type": "stream",
     "text": [
      "100%|██████████████████████████████████████████████████████████████████████████████████████████████████████████████████████| 37/37 [00:01<00:00, 26.20it/s]\n"
     ]
    },
    {
     "name": "stdout",
     "output_type": "stream",
     "text": [
      "Moviepy - Building video transition3.mp4.\n",
      "Moviepy - Writing video transition3.mp4\n",
      "\n"
     ]
    },
    {
     "name": "stderr",
     "output_type": "stream",
     "text": [
      "                                                                                                                                                           \r"
     ]
    },
    {
     "name": "stdout",
     "output_type": "stream",
     "text": [
      "Moviepy - Done !\n",
      "Moviepy - video ready transition3.mp4\n",
      "Video written successfully to transition3.mp4.\n"
     ]
    },
    {
     "name": "stderr",
     "output_type": "stream",
     "text": [
      "100%|██████████████████████████████████████████████████████████████████████████████████████████████████████████████████████| 37/37 [00:01<00:00, 26.56it/s]\n"
     ]
    },
    {
     "name": "stdout",
     "output_type": "stream",
     "text": [
      "Moviepy - Building video transition4.mp4.\n",
      "Moviepy - Writing video transition4.mp4\n",
      "\n"
     ]
    },
    {
     "name": "stderr",
     "output_type": "stream",
     "text": [
      "                                                                                                                                                           \r"
     ]
    },
    {
     "name": "stdout",
     "output_type": "stream",
     "text": [
      "Moviepy - Done !\n",
      "Moviepy - video ready transition4.mp4\n",
      "Video written successfully to transition4.mp4.\n"
     ]
    },
    {
     "name": "stderr",
     "output_type": "stream",
     "text": [
      "100%|██████████████████████████████████████████████████████████████████████████████████████████████████████████████████████| 37/37 [00:01<00:00, 26.98it/s]\n"
     ]
    },
    {
     "name": "stdout",
     "output_type": "stream",
     "text": [
      "Moviepy - Building video transition5.mp4.\n",
      "Moviepy - Writing video transition5.mp4\n",
      "\n"
     ]
    },
    {
     "name": "stderr",
     "output_type": "stream",
     "text": [
      "                                                                                                                                                           \r"
     ]
    },
    {
     "name": "stdout",
     "output_type": "stream",
     "text": [
      "Moviepy - Done !\n",
      "Moviepy - video ready transition5.mp4\n",
      "Video written successfully to transition5.mp4.\n"
     ]
    },
    {
     "name": "stderr",
     "output_type": "stream",
     "text": [
      "100%|██████████████████████████████████████████████████████████████████████████████████████████████████████████████████████| 37/37 [00:01<00:00, 26.11it/s]\n"
     ]
    },
    {
     "name": "stdout",
     "output_type": "stream",
     "text": [
      "Moviepy - Building video transition6.mp4.\n",
      "Moviepy - Writing video transition6.mp4\n",
      "\n"
     ]
    },
    {
     "name": "stderr",
     "output_type": "stream",
     "text": [
      "                                                                                                                                                           \r"
     ]
    },
    {
     "name": "stdout",
     "output_type": "stream",
     "text": [
      "Moviepy - Done !\n",
      "Moviepy - video ready transition6.mp4\n",
      "Video written successfully to transition6.mp4.\n"
     ]
    },
    {
     "name": "stderr",
     "output_type": "stream",
     "text": [
      "100%|██████████████████████████████████████████████████████████████████████████████████████████████████████████████████████| 37/37 [00:01<00:00, 26.09it/s]\n"
     ]
    },
    {
     "name": "stdout",
     "output_type": "stream",
     "text": [
      "Moviepy - Building video transition7.mp4.\n",
      "Moviepy - Writing video transition7.mp4\n",
      "\n"
     ]
    },
    {
     "name": "stderr",
     "output_type": "stream",
     "text": [
      "                                                                                                                                                           \r"
     ]
    },
    {
     "name": "stdout",
     "output_type": "stream",
     "text": [
      "Moviepy - Done !\n",
      "Moviepy - video ready transition7.mp4\n",
      "Video written successfully to transition7.mp4.\n"
     ]
    }
   ],
   "source": [
    "for i in range(1, 8):\n",
    "    start = last_frames[i]\n",
    "    end = first_frames[i + 1]\n",
    "    generate('transition{}.mp4'.format(str(int(i))), start, end, df)"
   ]
  },
  {
   "cell_type": "markdown",
   "id": "2877838a-4aa5-4ce8-8483-eb2e3908f101",
   "metadata": {},
   "source": [
    "# Join All Video Files Into Full Album Video"
   ]
  },
  {
   "cell_type": "code",
   "execution_count": 8,
   "id": "c3c7ee80-a4a7-40a0-92e0-49e354aa35b3",
   "metadata": {},
   "outputs": [],
   "source": [
    "video_files = [\n",
    "    'Aerodactylus - Jetsam Dreams - 01 The Maiden Flight.mp4',\n",
    "    'transition1.mp4',\n",
    "    'Aerodactylus - Jetsam Dreams - 02 Pterosoaring.mp4',\n",
    "    'transition2.mp4',\n",
    "    'Aerodactylus - Jetsam Dreams - 03 In Plain Flight.mp4',\n",
    "    'transition3.mp4',\n",
    "    'Aerodactylus - Jetsam Dreams - 04 Flutter On.mp4',\n",
    "    'transition4.mp4',\n",
    "    'Aerodactylus - Jetsam Dreams - 05 Wintering Grounds.mp4',\n",
    "    'transition5.mp4',\n",
    "    'Aerodactylus - Jetsam Dreams - 06 Alpenglow.mp4',\n",
    "    'transition6.mp4',\n",
    "    'Aerodactylus - Jetsam Dreams - 07 Jettison the Rest.mp4',\n",
    "    'transition7.mp4',\n",
    "    'Aerodactylus - Jetsam Dreams - 08 Sub Rosa Sunburst.mp4'\n",
    "]"
   ]
  },
  {
   "cell_type": "code",
   "execution_count": 10,
   "id": "7e3dcc50-5815-4053-adb5-3bb5a66636a6",
   "metadata": {},
   "outputs": [
    {
     "name": "stdout",
     "output_type": "stream",
     "text": [
      "Moviepy - Building video Aerodactylus - Jetsam Dreams - Full Album.mp4.\n",
      "MoviePy - Writing audio in Aerodactylus - Jetsam Dreams - Full AlbumTEMP_MPY_wvf_snd.mp3\n"
     ]
    },
    {
     "name": "stderr",
     "output_type": "stream",
     "text": [
      "                                                                                                                                                           \r"
     ]
    },
    {
     "name": "stdout",
     "output_type": "stream",
     "text": [
      "MoviePy - Done.\n",
      "Moviepy - Writing video Aerodactylus - Jetsam Dreams - Full Album.mp4\n",
      "\n"
     ]
    },
    {
     "name": "stderr",
     "output_type": "stream",
     "text": [
      "                                                                                                                                                           \r"
     ]
    },
    {
     "name": "stdout",
     "output_type": "stream",
     "text": [
      "Moviepy - Done !\n",
      "Moviepy - video ready Aerodactylus - Jetsam Dreams - Full Album.mp4\n"
     ]
    }
   ],
   "source": [
    "clips = [VideoFileClip(filename) for filename in video_files]\n",
    "\n",
    "video = concatenate_videoclips(clips, method='compose')\n",
    "video.write_videofile('Aerodactylus - Jetsam Dreams - Full Album.mp4')"
   ]
  },
  {
   "cell_type": "code",
   "execution_count": null,
   "id": "04683e7b-d70f-44ea-b5f2-a8c31eff7daa",
   "metadata": {},
   "outputs": [],
   "source": []
  }
 ],
 "metadata": {
  "kernelspec": {
   "display_name": "Python 3 (ipykernel)",
   "language": "python",
   "name": "python3"
  },
  "language_info": {
   "codemirror_mode": {
    "name": "ipython",
    "version": 3
   },
   "file_extension": ".py",
   "mimetype": "text/x-python",
   "name": "python",
   "nbconvert_exporter": "python",
   "pygments_lexer": "ipython3",
   "version": "3.11.6"
  }
 },
 "nbformat": 4,
 "nbformat_minor": 5
}
